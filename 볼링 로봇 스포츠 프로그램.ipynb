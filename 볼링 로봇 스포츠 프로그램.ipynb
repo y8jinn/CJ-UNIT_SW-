{
 "cells": [
  {
   "cell_type": "code",
   "execution_count": null,
   "id": "f28ab581",
   "metadata": {},
   "outputs": [],
   "source": [
    "from spike import PrimeHub, LightMatrix, Button, StatusLight, ForceSensor, MotionSensor, Speaker, ColorSensor, App, DistanceSensor, Motor, MotorPair\n",
    "from spike.control import wait_for_seconds, wait_until, Timer\n",
    "from math import *\n",
    "\n",
    "hub = PrimeHub()\n",
    "\n",
    "#모터를 초기화합니다.\n",
    "cMotor = Motor('C')\n",
    "dMotor = Motor('D')\n",
    "\n",
    "aSensor = ForceSensor('A')\n",
    "\n",
    "cMotor.set_default_speed(100)\n",
    "\n",
    "while True:\n",
    "    force = aSensor.get_force_newton()\n",
    "    \n",
    "    if force == 0:\n",
    "        continue\n",
    "        \n",
    "    #찰 때\n",
    "        \n",
    "    if force > 8:\n",
    "        cMotor.run_for_rotations(0.5)\n",
    "        cMotor.run_for_rotations(-0.7)\n",
    "        cMotor.run_for_rotations(0.2)\n",
    "        \n",
    "    #움직일 때\n",
    "    \n",
    "    elif force <= 8:\n",
    "        yaw = hub.motion_sensor.get_yaw_angle()\n",
    "        \n",
    "        if yaw < 0:\n",
    "            dMotor.run_for_degrees(-7)\n",
    "        else:\n",
    "            dMotor.run_for_degrees(7)\n",
    "\n"
   ]
  }
 ],
 "metadata": {
  "kernelspec": {
   "display_name": "Python 3 (ipykernel)",
   "language": "python",
   "name": "python3"
  },
  "language_info": {
   "codemirror_mode": {
    "name": "ipython",
    "version": 3
   },
   "file_extension": ".py",
   "mimetype": "text/x-python",
   "name": "python",
   "nbconvert_exporter": "python",
   "pygments_lexer": "ipython3",
   "version": "3.11.3"
  }
 },
 "nbformat": 4,
 "nbformat_minor": 5
}
